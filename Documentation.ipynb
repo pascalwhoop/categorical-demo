{
 "cells": [
  {
   "cell_type": "markdown",
   "metadata": {},
   "source": [
    "# Docs during challenge\n",
    "\n",
    "First some meta info: I started sunday morning at 10am. I hadn't seen my girl for 3 weeks and couldn't just sit on the PC all day instead of spending a late christmas day with her. Just FYI. I sent an email but I still think Florian just gets my emails in his spam folder...\n",
    "\n",
    "## Pip vs conda\n",
    "\n",
    "I am used to working with virtualenv and pip so I stuck with that. See the requirements.txt file. \n",
    "I also use python3.7"
   ]
  },
  {
   "cell_type": "code",
   "execution_count": null,
   "metadata": {},
   "outputs": [],
   "source": []
  }
 ],
 "metadata": {
  "kernelspec": {
   "display_name": "Python 3",
   "language": "python",
   "name": "python3"
  },
  "language_info": {
   "codemirror_mode": {
    "name": "ipython",
    "version": 3
   },
   "file_extension": ".py",
   "mimetype": "text/x-python",
   "name": "python",
   "nbconvert_exporter": "python",
   "pygments_lexer": "ipython3",
   "version": "3.7.1"
  }
 },
 "nbformat": 4,
 "nbformat_minor": 2
}
